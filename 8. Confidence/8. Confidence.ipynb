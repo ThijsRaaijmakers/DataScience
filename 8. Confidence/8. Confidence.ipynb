{
 "cells": [
  {
   "cell_type": "code",
   "execution_count": 1,
   "id": "5597a155",
   "metadata": {},
   "outputs": [],
   "source": [
    "import pandas as pd\n",
    "import scipy.stats as st"
   ]
  },
  {
   "cell_type": "code",
   "execution_count": 2,
   "id": "270c3bb3",
   "metadata": {},
   "outputs": [],
   "source": [
    "digimon = pd.read_csv('C:/Users/traai/Data Science/Portfolio/4. Digimon Dataset/4. Digimon.csv')"
   ]
  },
  {
   "cell_type": "code",
   "execution_count": 3,
   "id": "f9d53296",
   "metadata": {},
   "outputs": [],
   "source": [
    "### Confidence on Lv 50 HP"
   ]
  },
  {
   "cell_type": "code",
   "execution_count": 4,
   "id": "241b6806",
   "metadata": {},
   "outputs": [
    {
     "data": {
      "text/plain": [
       "(1176.7637008529607, 1245.0033674201316)"
      ]
     },
     "execution_count": 4,
     "metadata": {},
     "output_type": "execute_result"
    }
   ],
   "source": [
    "confidence = 0.90\n",
    "st.t.interval(confidence, len(digimon)-1, loc=digimon['Lv 50 HP'].mean(), scale=st.sem(digimon['Lv 50 HP']))"
   ]
  },
  {
   "cell_type": "code",
   "execution_count": 5,
   "id": "cac70567",
   "metadata": {},
   "outputs": [
    {
     "data": {
      "text/plain": [
       "(1170.180482870207, 1251.5865854028852)"
      ]
     },
     "execution_count": 5,
     "metadata": {},
     "output_type": "execute_result"
    }
   ],
   "source": [
    "confidence = 0.95\n",
    "st.t.interval(confidence, len(digimon)-1, loc=digimon['Lv 50 HP'].mean(), scale=st.sem(digimon['Lv 50 HP']))"
   ]
  },
  {
   "cell_type": "code",
   "execution_count": 6,
   "id": "083c37d8",
   "metadata": {},
   "outputs": [
    {
     "data": {
      "text/plain": [
       "(1157.2390240958546, 1264.5280441772377)"
      ]
     },
     "execution_count": 6,
     "metadata": {},
     "output_type": "execute_result"
    }
   ],
   "source": [
    "confidence = 0.99\n",
    "st.t.interval(confidence, len(digimon)-1, loc=digimon['Lv 50 HP'].mean(), scale=st.sem(digimon['Lv 50 HP']))"
   ]
  },
  {
   "cell_type": "code",
   "execution_count": 7,
   "id": "13756938",
   "metadata": {},
   "outputs": [
    {
     "data": {
      "text/plain": [
       "(1129.1539133041133, 1292.613154968979)"
      ]
     },
     "execution_count": 7,
     "metadata": {},
     "output_type": "execute_result"
    }
   ],
   "source": [
    "confidence = 0.9999\n",
    "st.t.interval(confidence, len(digimon)-1, loc=digimon['Lv 50 HP'].mean(), scale=st.sem(digimon['Lv 50 HP']))"
   ]
  },
  {
   "cell_type": "code",
   "execution_count": 8,
   "id": "3941b131",
   "metadata": {},
   "outputs": [],
   "source": [
    "### Confidence on Lv 50 Atk"
   ]
  },
  {
   "cell_type": "code",
   "execution_count": 9,
   "id": "7d40f34b",
   "metadata": {},
   "outputs": [
    {
     "data": {
      "text/plain": [
       "(119.74286104214205, 129.2932835361712)"
      ]
     },
     "execution_count": 9,
     "metadata": {},
     "output_type": "execute_result"
    }
   ],
   "source": [
    "confidence = 0.90\n",
    "st.t.interval(confidence, len(digimon)-1, loc=digimon['Lv50 Atk'].mean(), scale=st.sem(digimon['Lv50 Atk']))"
   ]
  },
  {
   "cell_type": "code",
   "execution_count": 10,
   "id": "4d24f465",
   "metadata": {},
   "outputs": [
    {
     "data": {
      "text/plain": [
       "(118.82151256158198, 130.21463201673126)"
      ]
     },
     "execution_count": 10,
     "metadata": {},
     "output_type": "execute_result"
    }
   ],
   "source": [
    "confidence = 0.95\n",
    "st.t.interval(confidence, len(digimon)-1, loc=digimon['Lv50 Atk'].mean(), scale=st.sem(digimon['Lv50 Atk']))"
   ]
  },
  {
   "cell_type": "code",
   "execution_count": 11,
   "id": "f5c9392a",
   "metadata": {},
   "outputs": [
    {
     "data": {
      "text/plain": [
       "(117.01030208530474, 132.0258424930085)"
      ]
     },
     "execution_count": 11,
     "metadata": {},
     "output_type": "execute_result"
    }
   ],
   "source": [
    "confidence = 0.99\n",
    "st.t.interval(confidence, len(digimon)-1, loc=digimon['Lv50 Atk'].mean(), scale=st.sem(digimon['Lv50 Atk']))"
   ]
  },
  {
   "cell_type": "code",
   "execution_count": 12,
   "id": "89d5103e",
   "metadata": {},
   "outputs": [
    {
     "data": {
      "text/plain": [
       "(113.07967511501141, 135.95646946330183)"
      ]
     },
     "execution_count": 12,
     "metadata": {},
     "output_type": "execute_result"
    }
   ],
   "source": [
    "confidence = 0.9999\n",
    "st.t.interval(confidence, len(digimon)-1, loc=digimon['Lv50 Atk'].mean(), scale=st.sem(digimon['Lv50 Atk']))"
   ]
  },
  {
   "cell_type": "code",
   "execution_count": 13,
   "id": "2d5efa6e",
   "metadata": {},
   "outputs": [],
   "source": [
    "### The higher the confidence, the bigger the range of the mean"
   ]
  },
  {
   "cell_type": "code",
   "execution_count": 14,
   "id": "45e3f852",
   "metadata": {},
   "outputs": [],
   "source": [
    "### Confidence of first 10% of the rows"
   ]
  },
  {
   "cell_type": "code",
   "execution_count": 15,
   "id": "c1cbcd0c",
   "metadata": {},
   "outputs": [
    {
     "data": {
      "text/plain": [
       "(76.1829128090512, 95.40042052428214)"
      ]
     },
     "execution_count": 15,
     "metadata": {},
     "output_type": "execute_result"
    }
   ],
   "source": [
    "confidence = 0.95\n",
    "n = int(0.1 * len(digimon['Lv50 Atk']))\n",
    "st.t.interval(confidence, len(digimon)-1, loc=digimon[:n]['Lv50 Atk'].mean(), scale=st.sem(digimon[:n]['Lv50 Atk']))"
   ]
  },
  {
   "cell_type": "code",
   "execution_count": 16,
   "id": "9b8ae3d5",
   "metadata": {},
   "outputs": [
    {
     "data": {
      "text/plain": [
       "(777.1708688375049, 933.6624644958283)"
      ]
     },
     "execution_count": 16,
     "metadata": {},
     "output_type": "execute_result"
    }
   ],
   "source": [
    "confidence = 0.95\n",
    "n = int(0.1 * len(digimon['Lv 50 HP']))\n",
    "st.t.interval(confidence, len(digimon)-1, loc=digimon[:n]['Lv 50 HP'].mean(), scale=st.sem(digimon[:n]['Lv 50 HP']))"
   ]
  },
  {
   "cell_type": "code",
   "execution_count": 17,
   "id": "4b3a9404",
   "metadata": {},
   "outputs": [],
   "source": [
    "### Less data is less accurate"
   ]
  }
 ],
 "metadata": {
  "kernelspec": {
   "display_name": "Python 3 (ipykernel)",
   "language": "python",
   "name": "python3"
  },
  "language_info": {
   "codemirror_mode": {
    "name": "ipython",
    "version": 3
   },
   "file_extension": ".py",
   "mimetype": "text/x-python",
   "name": "python",
   "nbconvert_exporter": "python",
   "pygments_lexer": "ipython3",
   "version": "3.9.13"
  }
 },
 "nbformat": 4,
 "nbformat_minor": 5
}
